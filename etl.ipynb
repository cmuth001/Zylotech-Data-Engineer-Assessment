{
 "cells": [
  {
   "cell_type": "markdown",
   "metadata": {},
   "source": [
    "## RDBMS data modeling"
   ]
  },
  {
   "cell_type": "code",
   "execution_count": 38,
   "metadata": {},
   "outputs": [],
   "source": [
    "import psycopg2\n",
    "from sql_queries import user_table_insert, fn_agg, ln_agg\n",
    "import requests"
   ]
  },
  {
   "cell_type": "code",
   "execution_count": 39,
   "metadata": {},
   "outputs": [],
   "source": [
    "try: \n",
    "    conn = psycopg2.connect(\"host=127.0.0.1 dbname=zylotechdb user=student password=student\")\n",
    "    cur = conn.cursor()\n",
    "except psycopg2.Error as e: \n",
    "    print(\"Error: Could not make connection to the Postgres database\")\n",
    "    print(e)"
   ]
  },
  {
   "cell_type": "code",
   "execution_count": 40,
   "metadata": {},
   "outputs": [],
   "source": [
    "# api-endpoint \n",
    "URL = \"https://reqres.in/api/users?page=\"\n",
    "#data requesting from endpoint pages\n",
    "pages = [1, 2, 3, 4]"
   ]
  },
  {
   "cell_type": "code",
   "execution_count": 41,
   "metadata": {},
   "outputs": [
    {
     "name": "stdout",
     "output_type": "stream",
     "text": [
      "https://reqres.in/api/users?page=1\n",
      "https://reqres.in/api/users?page=2\n",
      "https://reqres.in/api/users?page=3\n",
      "https://reqres.in/api/users?page=4\n"
     ]
    }
   ],
   "source": [
    "for page in pages:\n",
    "    URL = \"https://reqres.in/api/users?page=\"+str(page)\n",
    "    print(URL)\n",
    "    try:\n",
    "        res = requests.get(url = URL)\n",
    "        res_json = res.json()\n",
    "    except requests.exceptions.HTTPError as e:\n",
    "        print(e)\n",
    "        \n",
    "    if res_json['data']:\n",
    "        users = res_json['data']\n",
    "        for user in users:\n",
    "            id1 = user['id']\n",
    "            email = user['email']\n",
    "            first_name = user['first_name']\n",
    "            last_name = user['last_name']\n",
    "            avatar = user['avatar']\n",
    "#                 print(id1, email, first_name, last_name, avatar)\n",
    "            values = (id1,  first_name, last_name,email, avatar, \"now()\")\n",
    "    \n",
    "            try:\n",
    "                cur.execute(user_table_insert, values)\n",
    "            except psycopg2.Error as e: \n",
    "                print(\"Error: Inserting Rows\")\n",
    "                print (e) \n",
    "    else:\n",
    "        print(\"No users list in the API end point.\")"
   ]
  },
  {
   "cell_type": "code",
   "execution_count": 42,
   "metadata": {},
   "outputs": [
    {
     "name": "stdout",
     "output_type": "stream",
     "text": [
      "George Bluth\n",
      "Janet Weaver\n",
      "Emma Wong\n",
      "Eve Holt\n",
      "Charles Morris\n",
      "Tracey Ramos\n",
      "Michael Lawson\n",
      "Lindsay Ferguson\n",
      "Tobias Funke\n",
      "Byron Fields\n",
      "George Edwards\n",
      "Rachel Howell\n"
     ]
    }
   ],
   "source": [
    "try: \n",
    "    cur.execute(\"SELECT * FROM users;\")\n",
    "except psycopg2.Error as e: \n",
    "    print(\"Error: select *\")\n",
    "    print (e)\n",
    "\n",
    "row = cur.fetchone()\n",
    "while row:\n",
    "    #print first_name and last_name\n",
    "    print(row[2], row[3])\n",
    "    row = cur.fetchone()"
   ]
  },
  {
   "cell_type": "code",
   "execution_count": 43,
   "metadata": {},
   "outputs": [],
   "source": [
    "# Count of last name starting with same letter:\n",
    "def aggregation_metrics(query):\n",
    "    try: \n",
    "        cur.execute(query)\n",
    "        rows = cur.fetchall()\n",
    "        return rows\n",
    "    except psycopg2.Error as e: \n",
    "        print(\"Error: \", query)\n",
    "        print (e)"
   ]
  },
  {
   "cell_type": "code",
   "execution_count": 44,
   "metadata": {},
   "outputs": [],
   "source": [
    "fn_agg_res = aggregation_metrics(fn_agg)\n",
    "ln_agg_res = aggregation_metrics(ln_agg)"
   ]
  },
  {
   "cell_type": "code",
   "execution_count": 45,
   "metadata": {},
   "outputs": [
    {
     "name": "stdout",
     "output_type": "stream",
     "text": [
      "('B', 1)\n",
      "('C', 1)\n",
      "('E', 2)\n",
      "('G', 2)\n",
      "('J', 1)\n",
      "('L', 1)\n",
      "('M', 1)\n",
      "('R', 1)\n",
      "('T', 2)\n"
     ]
    }
   ],
   "source": [
    "for row in fn_agg_res:\n",
    "    print(row)   "
   ]
  },
  {
   "cell_type": "code",
   "execution_count": 46,
   "metadata": {},
   "outputs": [
    {
     "name": "stdout",
     "output_type": "stream",
     "text": [
      "('B', 1)\n",
      "('E', 1)\n",
      "('F', 3)\n",
      "('H', 2)\n",
      "('L', 1)\n",
      "('M', 1)\n",
      "('R', 1)\n",
      "('W', 2)\n"
     ]
    }
   ],
   "source": [
    "for row in ln_agg_res:\n",
    "    print(row)"
   ]
  },
  {
   "cell_type": "markdown",
   "metadata": {},
   "source": [
    "## NoSQL data modeling"
   ]
  },
  {
   "cell_type": "code",
   "execution_count": 47,
   "metadata": {},
   "outputs": [],
   "source": [
    "import cassandra\n",
    "from cassandra.cluster import Cluster\n",
    "from sql_queries import ac_users_table_create, ac_users_table_insert"
   ]
  },
  {
   "cell_type": "code",
   "execution_count": 48,
   "metadata": {},
   "outputs": [],
   "source": [
    "try: \n",
    "    cluster = Cluster(['127.0.0.1'])\n",
    "    session = cluster.connect()\n",
    "except Exception as e:\n",
    "    print(e)"
   ]
  },
  {
   "cell_type": "code",
   "execution_count": 49,
   "metadata": {},
   "outputs": [],
   "source": [
    "try:\n",
    "    session.set_keyspace('zylotechdb2')\n",
    "except Exception as e:\n",
    "    print(e)"
   ]
  },
  {
   "cell_type": "code",
   "execution_count": 50,
   "metadata": {},
   "outputs": [],
   "source": [
    "try:\n",
    "    session.execute(ac_users_table_create)\n",
    "except Exception as e:\n",
    "    print(e)"
   ]
  },
  {
   "cell_type": "code",
   "execution_count": 51,
   "metadata": {},
   "outputs": [],
   "source": [
    "def insert_data(session, query):\n",
    "    '''\n",
    "        This function is used to insert records into tables\n",
    "        args:\n",
    "            session: holds connection\n",
    "            query: string, query statement to insert into table.\n",
    "        return: None\n",
    "    '''\n",
    "    for page in pages:\n",
    "        URL = \"https://reqres.in/api/users?page=\"+str(page)\n",
    "        print(URL)\n",
    "        try:\n",
    "            res = requests.get(url = URL)\n",
    "            res_json = res.json()\n",
    "        except requests.exceptions.HTTPError as e:\n",
    "            print(e)\n",
    "\n",
    "        if res_json['data']:\n",
    "            users = res_json['data']\n",
    "            for user in users:\n",
    "                id1 = user['id']\n",
    "                email = user['email']\n",
    "                first_name = user['first_name']\n",
    "                last_name = user['last_name']\n",
    "                avatar = user['avatar']\n",
    "                session.execute(query, (int(id1), str(first_name), str(last_name), str(email), str(avatar)))"
   ]
  },
  {
   "cell_type": "code",
   "execution_count": 52,
   "metadata": {},
   "outputs": [
    {
     "name": "stdout",
     "output_type": "stream",
     "text": [
      "https://reqres.in/api/users?page=1\n",
      "https://reqres.in/api/users?page=2\n",
      "https://reqres.in/api/users?page=3\n",
      "https://reqres.in/api/users?page=4\n"
     ]
    }
   ],
   "source": [
    "\n",
    "# INSERT into the table\n",
    "insert_data(session, ac_users_table_insert)"
   ]
  },
  {
   "cell_type": "code",
   "execution_count": 66,
   "metadata": {},
   "outputs": [],
   "source": [
    "\n",
    "def ac_aggregation_metrics(query):\n",
    "    \n",
    "    fc_dic = {}\n",
    "    try:\n",
    "        rows = session.execute(query)\n",
    "        for row in rows:\n",
    "#             print(row.first_char)\n",
    "            fn_temp = row.first_char[0].upper()\n",
    "            if fn_temp in fc_dic:\n",
    "                fc_dic[fn_temp] +=1\n",
    "            else:\n",
    "                fc_dic[fn_temp] = 1\n",
    "    except Exception as e:\n",
    "        print(e)\n",
    "    return fc_dic"
   ]
  },
  {
   "cell_type": "code",
   "execution_count": 67,
   "metadata": {},
   "outputs": [],
   "source": [
    "#select query\n",
    "fn_query = \"\"\"SELECT  first_name as first_char\n",
    "            FROM ac_users\n",
    "            \"\"\"\n",
    "ln_query = \"\"\"SELECT  last_name as first_char\n",
    "            FROM ac_users\n",
    "            \"\"\"\n",
    "fn_result = ac_aggregation_metrics(fn_query)\n",
    "ln_result = ac_aggregation_metrics(ln_query)"
   ]
  },
  {
   "cell_type": "code",
   "execution_count": 68,
   "metadata": {},
   "outputs": [
    {
     "name": "stdout",
     "output_type": "stream",
     "text": [
      "fn: {'C': 1, 'B': 1, 'G': 2, 'L': 1, 'J': 1, 'E': 2, 'M': 1, 'T': 2, 'R': 1}\n",
      "ln: {'M': 1, 'F': 3, 'E': 1, 'B': 1, 'W': 2, 'H': 2, 'L': 1, 'R': 1}\n"
     ]
    }
   ],
   "source": [
    "print(\"fn:\", fn_result)\n",
    "print(\"ln:\", ln_result)"
   ]
  },
  {
   "cell_type": "code",
   "execution_count": 2,
   "metadata": {},
   "outputs": [
    {
     "name": "stdout",
     "output_type": "stream",
     "text": [
      "Requirement already satisfied: schedule in /opt/conda/lib/python3.6/site-packages (0.6.0)\n"
     ]
    }
   ],
   "source": [
    "! pip install schedule"
   ]
  },
  {
   "cell_type": "code",
   "execution_count": null,
   "metadata": {},
   "outputs": [],
   "source": [
    "\n",
    "import functools\n",
    "import time\n",
    "\n",
    "import schedule\n",
    "\n",
    "\n",
    "# This decorator can be applied to\n",
    "def with_logging(func):\n",
    "    @functools.wraps(func)\n",
    "    def wrapper(*args, **kwargs):\n",
    "        print('LOG: Running job \"%s\"' % func.__name__)\n",
    "        result = func(*args, **kwargs)\n",
    "        print('LOG: Job \"%s\" completed' % func.__name__)\n",
    "        return result\n",
    "    return wrapper\n",
    "\n",
    "@with_logging\n",
    "def job():\n",
    "    print('Hello, World.')\n",
    "\n",
    "schedule.every(3).seconds.do(job)\n",
    "\n",
    "while 1:\n",
    "    schedule.run_pending()\n",
    "    time.sleep(1)"
   ]
  },
  {
   "cell_type": "code",
   "execution_count": null,
   "metadata": {},
   "outputs": [],
   "source": [
    "session.shutdown()\n",
    "cluster.shutdown()"
   ]
  }
 ],
 "metadata": {
  "kernelspec": {
   "display_name": "Python 3",
   "language": "python",
   "name": "python3"
  },
  "language_info": {
   "codemirror_mode": {
    "name": "ipython",
    "version": 3
   },
   "file_extension": ".py",
   "mimetype": "text/x-python",
   "name": "python",
   "nbconvert_exporter": "python",
   "pygments_lexer": "ipython3",
   "version": "3.6.3"
  }
 },
 "nbformat": 4,
 "nbformat_minor": 2
}
