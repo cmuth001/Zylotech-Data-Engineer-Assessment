{
 "cells": [
  {
   "cell_type": "markdown",
   "metadata": {},
   "source": [
    "## RDBMS data modeling"
   ]
  },
  {
   "cell_type": "code",
   "execution_count": 1,
   "metadata": {},
   "outputs": [],
   "source": [
    "import psycopg2\n",
    "from sql_queries import user_table_insert, fn_agg, ln_agg\n",
    "import requests"
   ]
  },
  {
   "cell_type": "code",
   "execution_count": 2,
   "metadata": {},
   "outputs": [],
   "source": [
    "try: \n",
    "    conn = psycopg2.connect(\"host=127.0.0.1 dbname=zylotechdb user=student password=student\")\n",
    "    cur = conn.cursor()\n",
    "except psycopg2.Error as e: \n",
    "    print(\"Error: Could not make connection to the Postgres database\")\n",
    "    print(e)\n",
    "conn.set_session(autocommit=True)"
   ]
  },
  {
   "cell_type": "code",
   "execution_count": 3,
   "metadata": {},
   "outputs": [],
   "source": [
    "# api-endpoint \n",
    "URL = \"https://reqres.in/api/users?page=\"\n",
    "#data requesting from endpoint pages\n",
    "pages = [1, 2, 3, 4]"
   ]
  },
  {
   "cell_type": "code",
   "execution_count": null,
   "metadata": {},
   "outputs": [],
   "source": []
  },
  {
   "cell_type": "code",
   "execution_count": 4,
   "metadata": {},
   "outputs": [],
   "source": [
    "def check_user(id1):\n",
    "    try: \n",
    "        cur.execute(\"SELECT * FROM users where user_id ='{0}'\".format(id1))\n",
    "        result = cur.fetchall()\n",
    "        if len(result):\n",
    "            return False\n",
    "        else:\n",
    "            return True\n",
    "    except psycopg2.Error as e: \n",
    "        print(\"Error: select *\")\n",
    "        print (e)"
   ]
  },
  {
   "cell_type": "code",
   "execution_count": 5,
   "metadata": {},
   "outputs": [
    {
     "name": "stdout",
     "output_type": "stream",
     "text": [
      "https://reqres.in/api/users?page=1\n",
      "Page = 1, Status = All records inserted\n",
      "affected rows = 3, per_page = 3\n",
      "https://reqres.in/api/users?page=2\n",
      "Page = 2, Status = All records inserted\n",
      "affected rows = 3, per_page = 3\n",
      "https://reqres.in/api/users?page=3\n",
      "Page = 3, Status = All records inserted\n",
      "affected rows = 3, per_page = 3\n",
      "https://reqres.in/api/users?page=4\n",
      "Page = 4, Status = All records inserted\n",
      "affected rows = 3, per_page = 3\n"
     ]
    }
   ],
   "source": [
    "for page in pages:\n",
    "    URL = \"https://reqres.in/api/users?page=\"+str(page)\n",
    "    print(URL)\n",
    "    try:\n",
    "        res = requests.get(url = URL)\n",
    "        res_json = res.json()\n",
    "    except requests.exceptions.HTTPError as e:\n",
    "        print(e)\n",
    "    rows_affected = 0\n",
    "    per_page = res_json['per_page']\n",
    "    if res_json['data']:\n",
    "        users = res_json['data']\n",
    "        for user in users:\n",
    "            id1 = user['id']\n",
    "            email = user['email']\n",
    "            first_name = user['first_name']\n",
    "            last_name = user['last_name']\n",
    "            avatar = user['avatar']\n",
    "#                 print(id1, email, first_name, last_name, avatar)\n",
    "            values = (id1,  first_name, last_name,email, avatar, \"now()\")\n",
    "    \n",
    "            try:\n",
    "                if check_user(id1):\n",
    "                    cur.execute(user_table_insert, values)\n",
    "                    rows_affected += 1\n",
    "                else:\n",
    "                    print(\"Record already exists in the DB\")\n",
    "            except psycopg2.Error as e: \n",
    "                print(\"Error: Inserting Rows\")\n",
    "                print (e) \n",
    "        if rows_affected == per_page:\n",
    "            print(\"Page = {0}, Status = All records inserted.\".format(page))\n",
    "        else:\n",
    "            print(\"Page = {0}, Status = Missing  few records, per_page = {1}, Failed = {2}\".format(page, per_page, (per_page-rows_affected)))\n",
    "            \n",
    "#         print(\"affected rows = {0}, per_page = {1}\".format(rows_affected, per_page))\n",
    "    else:\n",
    "        print(\"No users list in the API end point.\")\n"
   ]
  },
  {
   "cell_type": "code",
   "execution_count": 6,
   "metadata": {},
   "outputs": [
    {
     "data": {
      "text/plain": [
       "False"
      ]
     },
     "execution_count": 6,
     "metadata": {},
     "output_type": "execute_result"
    }
   ],
   "source": [
    "check_user(1)"
   ]
  },
  {
   "cell_type": "code",
   "execution_count": 7,
   "metadata": {},
   "outputs": [
    {
     "name": "stdout",
     "output_type": "stream",
     "text": [
      "George Bluth\n",
      "Janet Weaver\n",
      "Emma Wong\n",
      "Eve Holt\n",
      "Charles Morris\n",
      "Tracey Ramos\n",
      "Michael Lawson\n",
      "Lindsay Ferguson\n",
      "Tobias Funke\n",
      "Byron Fields\n",
      "George Edwards\n",
      "Rachel Howell\n"
     ]
    }
   ],
   "source": [
    "try: \n",
    "    cur.execute(\"SELECT * FROM users;\")\n",
    "except psycopg2.Error as e: \n",
    "    print(\"Error: select *\")\n",
    "    print (e)\n",
    "\n",
    "row = cur.fetchone()\n",
    "while row:\n",
    "    #print first_name and last_name\n",
    "    print(row[2], row[3])\n",
    "    row = cur.fetchone()"
   ]
  },
  {
   "cell_type": "code",
   "execution_count": 8,
   "metadata": {},
   "outputs": [],
   "source": [
    "# Count of last name starting with same letter:\n",
    "def aggregation_metrics(query):\n",
    "    try: \n",
    "        cur.execute(query)\n",
    "        rows = cur.fetchall()\n",
    "        return rows\n",
    "    except psycopg2.Error as e: \n",
    "        print(\"Error: \", query)\n",
    "        print (e)"
   ]
  },
  {
   "cell_type": "code",
   "execution_count": 9,
   "metadata": {},
   "outputs": [],
   "source": [
    "fn_agg_res = aggregation_metrics(fn_agg)\n",
    "ln_agg_res = aggregation_metrics(ln_agg)"
   ]
  },
  {
   "cell_type": "code",
   "execution_count": 10,
   "metadata": {},
   "outputs": [],
   "source": [
    "# try: \n",
    "#     cur.execute(\"select * from users\")\n",
    "#     rows = cur.fetchall()\n",
    "#     print( rows)\n",
    "# except psycopg2.Error as e: \n",
    "#     print(\"Error: \", query)\n",
    "#     print (e)"
   ]
  },
  {
   "cell_type": "code",
   "execution_count": 11,
   "metadata": {},
   "outputs": [
    {
     "name": "stdout",
     "output_type": "stream",
     "text": [
      "('B', 1)\n",
      "('C', 1)\n",
      "('E', 2)\n",
      "('G', 2)\n",
      "('J', 1)\n",
      "('L', 1)\n",
      "('M', 1)\n",
      "('R', 1)\n",
      "('T', 2)\n"
     ]
    }
   ],
   "source": [
    "for row in fn_agg_res:\n",
    "    print(row)   "
   ]
  },
  {
   "cell_type": "code",
   "execution_count": 12,
   "metadata": {},
   "outputs": [
    {
     "name": "stdout",
     "output_type": "stream",
     "text": [
      "('B', 1)\n",
      "('E', 1)\n",
      "('F', 3)\n",
      "('H', 2)\n",
      "('L', 1)\n",
      "('M', 1)\n",
      "('R', 1)\n",
      "('W', 2)\n"
     ]
    }
   ],
   "source": [
    "for row in ln_agg_res:\n",
    "    print(row)"
   ]
  },
  {
   "cell_type": "markdown",
   "metadata": {},
   "source": [
    "## NoSQL data modeling"
   ]
  },
  {
   "cell_type": "code",
   "execution_count": 13,
   "metadata": {},
   "outputs": [],
   "source": [
    "import cassandra\n",
    "from cassandra.cluster import Cluster\n",
    "from sql_queries import ac_users_table_create, ac_users_table_insert"
   ]
  },
  {
   "cell_type": "code",
   "execution_count": 14,
   "metadata": {},
   "outputs": [],
   "source": [
    "try: \n",
    "    cluster = Cluster(['127.0.0.1'])\n",
    "    session = cluster.connect()\n",
    "except Exception as e:\n",
    "    print(e)"
   ]
  },
  {
   "cell_type": "code",
   "execution_count": 15,
   "metadata": {},
   "outputs": [],
   "source": [
    "try:\n",
    "    session.set_keyspace('zylotechdb2')\n",
    "except Exception as e:\n",
    "    print(e)"
   ]
  },
  {
   "cell_type": "code",
   "execution_count": 16,
   "metadata": {},
   "outputs": [],
   "source": [
    "try:\n",
    "    session.execute(ac_users_table_create)\n",
    "except Exception as e:\n",
    "    print(e)"
   ]
  },
  {
   "cell_type": "code",
   "execution_count": 17,
   "metadata": {},
   "outputs": [],
   "source": [
    "def insert_data(session, query):\n",
    "    '''\n",
    "        This function is used to insert records into tables\n",
    "        args:\n",
    "            session: holds connection\n",
    "            query: string, query statement to insert into table.\n",
    "        return: None\n",
    "    '''\n",
    "    for page in pages:\n",
    "        URL = \"https://reqres.in/api/users?page=\"+str(page)\n",
    "        print(URL)\n",
    "        try:\n",
    "            res = requests.get(url = URL)\n",
    "            res_json = res.json()\n",
    "        except requests.exceptions.HTTPError as e:\n",
    "            print(e)\n",
    "\n",
    "        if res_json['data']:\n",
    "            users = res_json['data']\n",
    "            for user in users:\n",
    "                id1 = user['id']\n",
    "                email = user['email']\n",
    "                first_name = user['first_name']\n",
    "                last_name = user['last_name']\n",
    "                avatar = user['avatar']\n",
    "                session.execute(query, (int(id1), str(first_name), str(last_name), str(email), str(avatar)))"
   ]
  },
  {
   "cell_type": "code",
   "execution_count": 18,
   "metadata": {},
   "outputs": [
    {
     "name": "stdout",
     "output_type": "stream",
     "text": [
      "https://reqres.in/api/users?page=1\n",
      "https://reqres.in/api/users?page=2\n",
      "https://reqres.in/api/users?page=3\n",
      "https://reqres.in/api/users?page=4\n"
     ]
    }
   ],
   "source": [
    "\n",
    "# INSERT into the table\n",
    "insert_data(session, ac_users_table_insert)"
   ]
  },
  {
   "cell_type": "code",
   "execution_count": 19,
   "metadata": {},
   "outputs": [],
   "source": [
    "\n",
    "def ac_aggregation_metrics(query):\n",
    "    \n",
    "    fc_dic = {}\n",
    "    try:\n",
    "        rows = session.execute(query)\n",
    "        for row in rows:\n",
    "#             print(row.first_char)\n",
    "            fn_temp = row.first_char[0].upper()\n",
    "            if fn_temp in fc_dic:\n",
    "                fc_dic[fn_temp] +=1\n",
    "            else:\n",
    "                fc_dic[fn_temp] = 1\n",
    "    except Exception as e:\n",
    "        print(e)\n",
    "    return fc_dic"
   ]
  },
  {
   "cell_type": "code",
   "execution_count": 20,
   "metadata": {},
   "outputs": [],
   "source": [
    "#select query\n",
    "fn_query = \"\"\"SELECT  first_name as first_char\n",
    "            FROM ac_users\n",
    "            \"\"\"\n",
    "ln_query = \"\"\"SELECT  last_name as first_char\n",
    "            FROM ac_users\n",
    "            \"\"\"\n",
    "fn_result = ac_aggregation_metrics(fn_query)\n",
    "ln_result = ac_aggregation_metrics(ln_query)"
   ]
  },
  {
   "cell_type": "code",
   "execution_count": 21,
   "metadata": {},
   "outputs": [
    {
     "name": "stdout",
     "output_type": "stream",
     "text": [
      "fn: {'C': 1, 'B': 1, 'G': 2, 'L': 1, 'J': 1, 'E': 2, 'M': 1, 'T': 2, 'R': 1}\n",
      "ln: {'M': 1, 'F': 3, 'E': 1, 'B': 1, 'W': 2, 'H': 2, 'L': 1, 'R': 1}\n"
     ]
    }
   ],
   "source": [
    "print(\"fn:\", fn_result)\n",
    "print(\"ln:\", ln_result)"
   ]
  },
  {
   "cell_type": "code",
   "execution_count": 22,
   "metadata": {},
   "outputs": [
    {
     "name": "stdout",
     "output_type": "stream",
     "text": [
      "Requirement already satisfied: schedule in /opt/conda/lib/python3.6/site-packages (0.6.0)\n"
     ]
    }
   ],
   "source": [
    "! pip install schedule"
   ]
  },
  {
   "cell_type": "code",
   "execution_count": 23,
   "metadata": {},
   "outputs": [],
   "source": [
    "session.shutdown()\n",
    "cluster.shutdown()"
   ]
  }
 ],
 "metadata": {
  "kernelspec": {
   "display_name": "Python 3",
   "language": "python",
   "name": "python3"
  },
  "language_info": {
   "codemirror_mode": {
    "name": "ipython",
    "version": 3
   },
   "file_extension": ".py",
   "mimetype": "text/x-python",
   "name": "python",
   "nbconvert_exporter": "python",
   "pygments_lexer": "ipython3",
   "version": "3.6.3"
  }
 },
 "nbformat": 4,
 "nbformat_minor": 2
}
