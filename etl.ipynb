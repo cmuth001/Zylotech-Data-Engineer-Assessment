{
 "cells": [
  {
   "cell_type": "code",
   "execution_count": 1,
   "metadata": {},
   "outputs": [],
   "source": [
    "import psycopg2\n",
    "from sql_queries import user_table_insert\n",
    "import requests "
   ]
  },
  {
   "cell_type": "code",
   "execution_count": 2,
   "metadata": {},
   "outputs": [],
   "source": [
    "try: \n",
    "    conn = psycopg2.connect(\"host=127.0.0.1 dbname=zylotechdb user=student password=student\")\n",
    "    cur = conn.cursor()\n",
    "except psycopg2.Error as e: \n",
    "    print(\"Error: Could not make connection to the Postgres database\")\n",
    "    print(e)"
   ]
  },
  {
   "cell_type": "code",
   "execution_count": 3,
   "metadata": {},
   "outputs": [],
   "source": [
    "# api-endpoint \n",
    "URL = \"https://reqres.in/api/users?page=\"\n",
    "#data requesting from endpoint pages\n",
    "pages = [1, 2, 3, 4]"
   ]
  },
  {
   "cell_type": "code",
   "execution_count": 4,
   "metadata": {},
   "outputs": [
    {
     "name": "stdout",
     "output_type": "stream",
     "text": [
      "https://reqres.in/api/users?page=1\n",
      "https://reqres.in/api/users?page=2\n",
      "https://reqres.in/api/users?page=3\n",
      "https://reqres.in/api/users?page=4\n"
     ]
    }
   ],
   "source": [
    "for page in pages:\n",
    "    URL = \"https://reqres.in/api/users?page=\"+str(page)\n",
    "    print(URL)\n",
    "    try:\n",
    "        res = requests.get(url = URL)\n",
    "        res_json = res.json()\n",
    "    except requests.exceptions.HTTPError as e:\n",
    "        print(e)\n",
    "        \n",
    "    if res_json['data']:\n",
    "        users = res_json['data']\n",
    "        for user in users:\n",
    "            id1 = user['id']\n",
    "            email = user['email']\n",
    "            first_name = user['first_name']\n",
    "            last_name = user['last_name']\n",
    "            avatar = user['avatar']\n",
    "#                 print(id1, email, first_name, last_name, avatar)\n",
    "            values = (id1,  first_name, last_name,email, avatar, \"now()\")\n",
    "    \n",
    "            try:\n",
    "                cur.execute(user_table_insert, values)\n",
    "            except psycopg2.Error as e: \n",
    "                print(\"Error: Inserting Rows\")\n",
    "                print (e) \n",
    "    else:\n",
    "        print(\"No users list in the API end point.\")"
   ]
  },
  {
   "cell_type": "code",
   "execution_count": 5,
   "metadata": {},
   "outputs": [
    {
     "name": "stdout",
     "output_type": "stream",
     "text": [
      "George Bluth\n",
      "Janet Weaver\n",
      "Emma Wong\n",
      "Eve Holt\n",
      "Charles Morris\n",
      "Tracey Ramos\n",
      "Michael Lawson\n",
      "Lindsay Ferguson\n",
      "Tobias Funke\n",
      "Byron Fields\n",
      "George Edwards\n",
      "Rachel Howell\n"
     ]
    }
   ],
   "source": [
    "try: \n",
    "    cur.execute(\"SELECT * FROM users;\")\n",
    "except psycopg2.Error as e: \n",
    "    print(\"Error: select *\")\n",
    "    print (e)\n",
    "\n",
    "row = cur.fetchone()\n",
    "while row:\n",
    "    #print first_name and last_name\n",
    "    print(row[2], row[3])\n",
    "    row = cur.fetchone()"
   ]
  },
  {
   "cell_type": "code",
   "execution_count": null,
   "metadata": {},
   "outputs": [],
   "source": []
  }
 ],
 "metadata": {
  "kernelspec": {
   "display_name": "Python 3",
   "language": "python",
   "name": "python3"
  },
  "language_info": {
   "codemirror_mode": {
    "name": "ipython",
    "version": 3
   },
   "file_extension": ".py",
   "mimetype": "text/x-python",
   "name": "python",
   "nbconvert_exporter": "python",
   "pygments_lexer": "ipython3",
   "version": "3.6.3"
  }
 },
 "nbformat": 4,
 "nbformat_minor": 2
}
